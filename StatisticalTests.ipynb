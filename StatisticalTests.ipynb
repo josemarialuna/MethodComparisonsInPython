{
 "cells": [
  {
   "cell_type": "code",
   "execution_count": 57,
   "metadata": {},
   "outputs": [],
   "source": [
    "import pandas as pd\n",
    "import numpy as np\n",
    "from scipy import stats\n",
    "import scikit_posthocs as sp # https://pypi.org/project/scikit-posthocs/\n",
    "import stac\n",
    "import matplotlib.pyplot as plt"
   ]
  },
  {
   "cell_type": "markdown",
   "metadata": {},
   "source": [
    "# Read in our data for comparing"
   ]
  },
  {
   "cell_type": "code",
   "execution_count": 58,
   "metadata": {},
   "outputs": [
    {
     "name": "stdout",
     "output_type": "stream",
     "text": [
      "Read data\n",
      "Methods: 4 Datasets: 11\n"
     ]
    }
   ],
   "source": [
    "# Assumes a formattting where rows are datasets, and the methods are columns\n",
    "df = pd.read_csv(\"data/scalograms.csv\",delimiter=\"\\t\", index_col=0)\n",
    "data = np.asarray(df)\n",
    "\n",
    "print(\"Read data\")\n",
    "\n",
    "# To be safe, ensure this matches what was expected\n",
    "num_datasets, num_methods = data.shape\n",
    "print(\"Methods:\", num_methods, \"Datasets:\", num_datasets)"
   ]
  },
  {
   "cell_type": "markdown",
   "metadata": {},
   "source": [
    "## Friedman testing \n",
    "Non parametric test to check if there is a difference in means between the groups (classifiers)"
   ]
  },
  {
   "cell_type": "code",
   "execution_count": 59,
   "metadata": {},
   "outputs": [
    {
     "name": "stdout",
     "output_type": "stream",
     "text": [
      "Should we reject H0 (i.e. is there a difference in the means) at the 95.0 % confidence level? True\n",
      "29.293849658314343\n",
      "0.00111657781455193\n"
     ]
    }
   ],
   "source": [
    "alpha = 0.05 # Set this to the desired alpha/signifance level\n",
    "\n",
    "stat, p = stats.friedmanchisquare(*data)\n",
    "\n",
    "reject = p <= alpha\n",
    "print(\"Should we reject H0 (i.e. is there a difference in the means) at the\", (1-alpha)*100, \"% confidence level?\", reject)\n",
    "print(stat)\n",
    "print(p)"
   ]
  },
  {
   "cell_type": "markdown",
   "metadata": {},
   "source": [
    "### Post Hoc Analysis\n",
    "See [Statistical Comparisons of Classifiers over Multiple Data Sets](http://citeseerx.ist.psu.edu/viewdoc/download?doi=10.1.1.141.3142&rep=rep1&type=pdf) for more detail"
   ]
  },
  {
   "cell_type": "code",
   "execution_count": 60,
   "metadata": {},
   "outputs": [],
   "source": [
    "# At this point, we should only continue if H0 was rejected\n",
    "if not reject:\n",
    "    raise Exception(\"Exiting early. The rankings are only relevant if there was a difference in the means i.e. if we rejected h0 above\")"
   ]
  },
  {
   "cell_type": "code",
   "execution_count": 61,
   "metadata": {},
   "outputs": [],
   "source": [
    "# Helper functions for performing the statistical tests\n",
    "def generate_scores(method, method_args, data, labels):\n",
    "    pairwise_scores = method(data, **method_args) # Matrix for all pairwise comaprisons\n",
    "    pairwise_scores.set_axis(labels, axis='columns', inplace=True) # Label the cols\n",
    "    pairwise_scores.set_axis(labels, axis='rows', inplace=True) # Label the rows, note: same label as pairwise combinations\n",
    "    return pairwise_scores\n",
    "\n",
    "def plot(scores):\n",
    "    # Pretty plot of significance\n",
    "    heatmap_args = {'linewidths': 0.25, 'linecolor': '0.5', 'square': True,\n",
    "                    'cbar_ax_bbox': [0.80, 0.35, 0.04, 0.3]}\n",
    "\n",
    "    sp.sign_plot(scores, **heatmap_args)"
   ]
  },
  {
   "cell_type": "markdown",
   "metadata": {},
   "source": [
    "#### Nemenyi Test\n",
    "Note: This is relevant when you would like to compare various methods.\n",
    "For example if you propose several methods and want to compare them all against each\n",
    "other, or to do an exhaustive comparison against several method. Often this is not\n",
    "what we want, as we propose only one method (instead see Bonferoni below), and this would\n",
    "be overconservativew. "
   ]
  },
  {
   "cell_type": "code",
   "execution_count": 62,
   "metadata": {},
   "outputs": [
    {
     "name": "stderr",
     "output_type": "stream",
     "text": [
      "C:\\Users\\Josem\\AppData\\Local\\Temp\\ipykernel_26384\\3969716403.py:4: FutureWarning: DataFrame.set_axis 'inplace' keyword is deprecated and will be removed in a future version. Use `obj = obj.set_axis(..., copy=False)` instead\n",
      "  pairwise_scores.set_axis(labels, axis='columns', inplace=True) # Label the cols\n",
      "C:\\Users\\Josem\\AppData\\Local\\Temp\\ipykernel_26384\\3969716403.py:5: FutureWarning: DataFrame.set_axis 'inplace' keyword is deprecated and will be removed in a future version. Use `obj = obj.set_axis(..., copy=False)` instead\n",
      "  pairwise_scores.set_axis(labels, axis='rows', inplace=True) # Label the rows, note: same label as pairwise combinations\n"
     ]
    }
   ],
   "source": [
    "nemenyi_scores = generate_scores(sp.posthoc_nemenyi_friedman, {}, data, df.columns)"
   ]
  },
  {
   "cell_type": "code",
   "execution_count": 63,
   "metadata": {},
   "outputs": [
    {
     "data": {
      "text/html": [
       "<div>\n",
       "<style scoped>\n",
       "    .dataframe tbody tr th:only-of-type {\n",
       "        vertical-align: middle;\n",
       "    }\n",
       "\n",
       "    .dataframe tbody tr th {\n",
       "        vertical-align: top;\n",
       "    }\n",
       "\n",
       "    .dataframe thead th {\n",
       "        text-align: right;\n",
       "    }\n",
       "</style>\n",
       "<table border=\"1\" class=\"dataframe\">\n",
       "  <thead>\n",
       "    <tr style=\"text-align: right;\">\n",
       "      <th></th>\n",
       "      <th>MlKNN</th>\n",
       "      <th>MlKNN-daug</th>\n",
       "      <th>CNN</th>\n",
       "      <th>CNN-daug</th>\n",
       "    </tr>\n",
       "  </thead>\n",
       "  <tbody>\n",
       "    <tr>\n",
       "      <th>MlKNN</th>\n",
       "      <td>1.000000</td>\n",
       "      <td>0.775321</td>\n",
       "      <td>0.900000</td>\n",
       "      <td>0.015642</td>\n",
       "    </tr>\n",
       "    <tr>\n",
       "      <th>MlKNN-daug</th>\n",
       "      <td>0.775321</td>\n",
       "      <td>1.000000</td>\n",
       "      <td>0.636277</td>\n",
       "      <td>0.165055</td>\n",
       "    </tr>\n",
       "    <tr>\n",
       "      <th>CNN</th>\n",
       "      <td>0.900000</td>\n",
       "      <td>0.636277</td>\n",
       "      <td>1.000000</td>\n",
       "      <td>0.007017</td>\n",
       "    </tr>\n",
       "    <tr>\n",
       "      <th>CNN-daug</th>\n",
       "      <td>0.015642</td>\n",
       "      <td>0.165055</td>\n",
       "      <td>0.007017</td>\n",
       "      <td>1.000000</td>\n",
       "    </tr>\n",
       "  </tbody>\n",
       "</table>\n",
       "</div>"
      ],
      "text/plain": [
       "               MlKNN  MlKNN-daug       CNN  CNN-daug\n",
       "MlKNN       1.000000    0.775321  0.900000  0.015642\n",
       "MlKNN-daug  0.775321    1.000000  0.636277  0.165055\n",
       "CNN         0.900000    0.636277  1.000000  0.007017\n",
       "CNN-daug    0.015642    0.165055  0.007017  1.000000"
      ]
     },
     "execution_count": 63,
     "metadata": {},
     "output_type": "execute_result"
    }
   ],
   "source": [
    "# Shows the p values for each pair\n",
    "nemenyi_scores"
   ]
  },
  {
   "cell_type": "code",
   "execution_count": 64,
   "metadata": {},
   "outputs": [
    {
     "data": {
      "image/png": "[encoded data removed]",
      "text/plain": [
       "<Figure size 640x480 with 2 Axes>"
      ]
     },
     "metadata": {},
     "output_type": "display_data"
    }
   ],
   "source": [
    "plot(nemenyi_scores)"
   ]
  },
  {
   "cell_type": "markdown",
   "metadata": {},
   "source": [
    "#### Bonferoni-Holm Correction\n",
    "In some cases, we do not care about all pairwise comparisons as we only propose a single method.\n",
    "In this case we can prefer using the Bonferroni correction with a a control method, where the \n",
    "control is our proposed method.  This is confirmed in Statistical Comparisons of Classifiers over Multiple Data Sets with\n",
    "\n",
    "\"We thus should not make pairwise comparisons when we in fact only test whether a newly proposed method is better than the existing ones.\"\n",
    "\n",
    "This is done with the \"Holm\" method here\n",
    "\n",
    "\n",
    "**NOTE:** This relies on the method being called \"*Proposed Method*\" in the imported CSV file,\n",
    "for lack of a generic way to set the control group."
   ]
  },
  {
   "cell_type": "code",
   "execution_count": 65,
   "metadata": {},
   "outputs": [],
   "source": [
    "# This library requires the data in different format to above, so was tranposed\n",
    "statistic, p_value, ranking, rank_cmp  = stac.friedman_test(*np.transpose(data))\n",
    "ranks = {key: rank_cmp[i] for i, key in enumerate(list(df.columns))} \n",
    "\n",
    "comparisons, z_values, p_values, adj_p_values = stac.holm_test(ranks, control=\"CNN-daug\")\n",
    "adj_p_values = np.asarray(adj_p_values)"
   ]
  },
  {
   "cell_type": "code",
   "execution_count": 66,
   "metadata": {},
   "outputs": [
    {
     "name": "stdout",
     "output_type": "stream",
     "text": [
      "CNN-daug: 2.48\n",
      "MlKNN-daug: 4.54\n",
      "MlKNN: 5.45\n",
      "CNN: 5.70\n"
     ]
    }
   ],
   "source": [
    "# Rankings\n",
    "for method, rank in sorted(ranks.items(), key=lambda x: x[1]):\n",
    "    print(method +\":\", \"%.2f\" % rank)"
   ]
  },
  {
   "cell_type": "code",
   "execution_count": 67,
   "metadata": {},
   "outputs": [],
   "source": [
    "holm_scores = pd.DataFrame({\"p\": adj_p_values, \"adj_p_values\":adj_p_values, \"alpha\":alpha,\"z_values\":z_values,\"sig\": adj_p_values < alpha}, index=comparisons)"
   ]
  },
  {
   "cell_type": "code",
   "execution_count": 68,
   "metadata": {},
   "outputs": [
    {
     "data": {
      "text/html": [
       "<div>\n",
       "<style scoped>\n",
       "    .dataframe tbody tr th:only-of-type {\n",
       "        vertical-align: middle;\n",
       "    }\n",
       "\n",
       "    .dataframe tbody tr th {\n",
       "        vertical-align: top;\n",
       "    }\n",
       "\n",
       "    .dataframe thead th {\n",
       "        text-align: right;\n",
       "    }\n",
       "</style>\n",
       "<table border=\"1\" class=\"dataframe\">\n",
       "  <thead>\n",
       "    <tr style=\"text-align: right;\">\n",
       "      <th></th>\n",
       "      <th>p</th>\n",
       "      <th>adj_p_values</th>\n",
       "      <th>alpha</th>\n",
       "      <th>z_values</th>\n",
       "      <th>sig</th>\n",
       "    </tr>\n",
       "  </thead>\n",
       "  <tbody>\n",
       "    <tr>\n",
       "      <th>CNN-daug vs CNN</th>\n",
       "      <td>0.003841</td>\n",
       "      <td>0.003841</td>\n",
       "      <td>0.05</td>\n",
       "      <td>3.220319</td>\n",
       "      <td>True</td>\n",
       "    </tr>\n",
       "    <tr>\n",
       "      <th>CNN-daug vs MlKNN</th>\n",
       "      <td>0.005906</td>\n",
       "      <td>0.005906</td>\n",
       "      <td>0.05</td>\n",
       "      <td>2.972602</td>\n",
       "      <td>True</td>\n",
       "    </tr>\n",
       "    <tr>\n",
       "      <th>CNN-daug vs MlKNN-daug</th>\n",
       "      <td>0.038989</td>\n",
       "      <td>0.038989</td>\n",
       "      <td>0.05</td>\n",
       "      <td>2.064307</td>\n",
       "      <td>True</td>\n",
       "    </tr>\n",
       "  </tbody>\n",
       "</table>\n",
       "</div>"
      ],
      "text/plain": [
       "                               p  adj_p_values  alpha  z_values   sig\n",
       "CNN-daug vs CNN         0.003841      0.003841   0.05  3.220319  True\n",
       "CNN-daug vs MlKNN       0.005906      0.005906   0.05  2.972602  True\n",
       "CNN-daug vs MlKNN-daug  0.038989      0.038989   0.05  2.064307  True"
      ]
     },
     "execution_count": 68,
     "metadata": {},
     "output_type": "execute_result"
    }
   ],
   "source": [
    "holm_scores"
   ]
  },
  {
   "cell_type": "code",
   "execution_count": null,
   "metadata": {},
   "outputs": [],
   "source": []
  }
 ],
 "metadata": {
  "kernelspec": {
   "display_name": "Python 3",
   "language": "python",
   "name": "python3"
  },
  "language_info": {
   "codemirror_mode": {
    "name": "ipython",
    "version": 3
   },
   "file_extension": ".py",
   "mimetype": "text/x-python",
   "name": "python",
   "nbconvert_exporter": "python",
   "pygments_lexer": "ipython3",
   "version": "3.10.5"
  }
 },
 "nbformat": 4,
 "nbformat_minor": 2
}
